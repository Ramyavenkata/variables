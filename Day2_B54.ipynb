{
 "cells": [
  {
   "cell_type": "code",
   "execution_count": 2,
   "id": "d0264da5",
   "metadata": {},
   "outputs": [],
   "source": [
    "x=3"
   ]
  },
  {
   "cell_type": "code",
   "execution_count": 3,
   "id": "a949a442",
   "metadata": {},
   "outputs": [],
   "source": [
    "y=4"
   ]
  },
  {
   "cell_type": "code",
   "execution_count": 4,
   "id": "aeaaefa5",
   "metadata": {},
   "outputs": [],
   "source": [
    "z= x+y"
   ]
  },
  {
   "cell_type": "code",
   "execution_count": 5,
   "id": "559bada7",
   "metadata": {},
   "outputs": [
    {
     "name": "stdout",
     "output_type": "stream",
     "text": [
      "7\n"
     ]
    }
   ],
   "source": [
    "print(z)"
   ]
  },
  {
   "cell_type": "markdown",
   "id": "08707bc6",
   "metadata": {},
   "source": [
    " for declaring variables in python"
   ]
  },
  {
   "cell_type": "code",
   "execution_count": null,
   "id": "445e0424",
   "metadata": {},
   "outputs": [],
   "source": [
    "rule1"
   ]
  },
  {
   "cell_type": "code",
   "execution_count": 10,
   "id": "a712e04c",
   "metadata": {},
   "outputs": [
    {
     "ename": "SyntaxError",
     "evalue": "invalid syntax (<ipython-input-10-6a9ed498ba90>, line 1)",
     "output_type": "error",
     "traceback": [
      "\u001b[1;36m  File \u001b[1;32m\"<ipython-input-10-6a9ed498ba90>\"\u001b[1;36m, line \u001b[1;32m1\u001b[0m\n\u001b[1;33m    first name='Ramya'\u001b[0m\n\u001b[1;37m          ^\u001b[0m\n\u001b[1;31mSyntaxError\u001b[0m\u001b[1;31m:\u001b[0m invalid syntax\n"
     ]
    }
   ],
   "source": [
    "first name='Ramya'"
   ]
  },
  {
   "cell_type": "code",
   "execution_count": 8,
   "id": "11120cad",
   "metadata": {},
   "outputs": [],
   "source": [
    "Firstname='Ramya'"
   ]
  },
  {
   "cell_type": "code",
   "execution_count": 9,
   "id": "68bceeb5",
   "metadata": {},
   "outputs": [
    {
     "name": "stdout",
     "output_type": "stream",
     "text": [
      "Ramya\n"
     ]
    }
   ],
   "source": [
    "print(Firstname)"
   ]
  },
  {
   "cell_type": "code",
   "execution_count": null,
   "id": "dd63a73c",
   "metadata": {},
   "outputs": [],
   "source": [
    "rule2:"
   ]
  },
  {
   "cell_type": "code",
   "execution_count": 15,
   "id": "52528af7",
   "metadata": {},
   "outputs": [
    {
     "ename": "SyntaxError",
     "evalue": "invalid syntax (<ipython-input-15-ce3fa686c5c4>, line 1)",
     "output_type": "error",
     "traceback": [
      "\u001b[1;36m  File \u001b[1;32m\"<ipython-input-15-ce3fa686c5c4>\"\u001b[1;36m, line \u001b[1;32m1\u001b[0m\n\u001b[1;33m    1name='priya'\u001b[0m\n\u001b[1;37m     ^\u001b[0m\n\u001b[1;31mSyntaxError\u001b[0m\u001b[1;31m:\u001b[0m invalid syntax\n"
     ]
    }
   ],
   "source": [
    "1name='priya'"
   ]
  },
  {
   "cell_type": "code",
   "execution_count": 16,
   "id": "5225479b",
   "metadata": {},
   "outputs": [
    {
     "ename": "SyntaxError",
     "evalue": "invalid syntax (<ipython-input-16-0d7636e7b46b>, line 1)",
     "output_type": "error",
     "traceback": [
      "\u001b[1;36m  File \u001b[1;32m\"<ipython-input-16-0d7636e7b46b>\"\u001b[1;36m, line \u001b[1;32m1\u001b[0m\n\u001b[1;33m    print(1name)\u001b[0m\n\u001b[1;37m           ^\u001b[0m\n\u001b[1;31mSyntaxError\u001b[0m\u001b[1;31m:\u001b[0m invalid syntax\n"
     ]
    }
   ],
   "source": [
    "print(1name)"
   ]
  },
  {
   "cell_type": "code",
   "execution_count": 13,
   "id": "104b9468",
   "metadata": {},
   "outputs": [],
   "source": [
    "name1=\"priya\"\n"
   ]
  },
  {
   "cell_type": "code",
   "execution_count": 14,
   "id": "4d7aefda",
   "metadata": {},
   "outputs": [
    {
     "name": "stdout",
     "output_type": "stream",
     "text": [
      "priya\n"
     ]
    }
   ],
   "source": [
    "print(name1)\n"
   ]
  },
  {
   "cell_type": "code",
   "execution_count": null,
   "id": "788337a4",
   "metadata": {},
   "outputs": [],
   "source": [
    "rule3:special characters are not allowed"
   ]
  },
  {
   "cell_type": "code",
   "execution_count": null,
   "id": "a8d4fd66",
   "metadata": {},
   "outputs": [],
   "source": [
    "@name='bindu'"
   ]
  },
  {
   "cell_type": "code",
   "execution_count": 17,
   "id": "88ad7999",
   "metadata": {},
   "outputs": [
    {
     "ename": "SyntaxError",
     "evalue": "invalid syntax (<ipython-input-17-8272c30b27da>, line 1)",
     "output_type": "error",
     "traceback": [
      "\u001b[1;36m  File \u001b[1;32m\"<ipython-input-17-8272c30b27da>\"\u001b[1;36m, line \u001b[1;32m1\u001b[0m\n\u001b[1;33m    print(@name)\u001b[0m\n\u001b[1;37m          ^\u001b[0m\n\u001b[1;31mSyntaxError\u001b[0m\u001b[1;31m:\u001b[0m invalid syntax\n"
     ]
    }
   ],
   "source": [
    "print(@name)"
   ]
  },
  {
   "cell_type": "code",
   "execution_count": null,
   "id": "df847370",
   "metadata": {},
   "outputs": [],
   "source": [
    "introduction of datatypes:"
   ]
  },
  {
   "cell_type": "code",
   "execution_count": null,
   "id": "ef679878",
   "metadata": {},
   "outputs": [],
   "source": [
    "1.String"
   ]
  },
  {
   "cell_type": "code",
   "execution_count": 19,
   "id": "535857d4",
   "metadata": {},
   "outputs": [],
   "source": [
    "student='sai'"
   ]
  },
  {
   "cell_type": "code",
   "execution_count": 20,
   "id": "a8dbe592",
   "metadata": {},
   "outputs": [
    {
     "name": "stdout",
     "output_type": "stream",
     "text": [
      "sai\n"
     ]
    }
   ],
   "source": [
    "print(student)"
   ]
  },
  {
   "cell_type": "code",
   "execution_count": 21,
   "id": "07b003a6",
   "metadata": {},
   "outputs": [],
   "source": [
    "student1=\"nani\""
   ]
  },
  {
   "cell_type": "code",
   "execution_count": 22,
   "id": "c10eeb15",
   "metadata": {},
   "outputs": [
    {
     "name": "stdout",
     "output_type": "stream",
     "text": [
      "nani\n"
     ]
    }
   ],
   "source": [
    "print(student1)"
   ]
  },
  {
   "cell_type": "code",
   "execution_count": 23,
   "id": "16af2e3b",
   "metadata": {},
   "outputs": [],
   "source": [
    "student2=\"\"\"mani\"\"\""
   ]
  },
  {
   "cell_type": "code",
   "execution_count": 24,
   "id": "bc3987c6",
   "metadata": {},
   "outputs": [
    {
     "name": "stdout",
     "output_type": "stream",
     "text": [
      "mani\n"
     ]
    }
   ],
   "source": [
    "print(student2)"
   ]
  },
  {
   "cell_type": "code",
   "execution_count": 26,
   "id": "57d2e041",
   "metadata": {},
   "outputs": [
    {
     "data": {
      "text/plain": [
       "str"
      ]
     },
     "execution_count": 26,
     "metadata": {},
     "output_type": "execute_result"
    }
   ],
   "source": [
    "type(student)"
   ]
  },
  {
   "cell_type": "code",
   "execution_count": 27,
   "id": "12c87779",
   "metadata": {},
   "outputs": [],
   "source": [
    "studentid=4"
   ]
  },
  {
   "cell_type": "code",
   "execution_count": 28,
   "id": "f035aea7",
   "metadata": {},
   "outputs": [
    {
     "name": "stdout",
     "output_type": "stream",
     "text": [
      "4\n"
     ]
    }
   ],
   "source": [
    "print(studentid)"
   ]
  },
  {
   "cell_type": "code",
   "execution_count": 29,
   "id": "8a32a247",
   "metadata": {},
   "outputs": [
    {
     "data": {
      "text/plain": [
       "int"
      ]
     },
     "execution_count": 29,
     "metadata": {},
     "output_type": "execute_result"
    }
   ],
   "source": [
    "type(studentid)"
   ]
  },
  {
   "cell_type": "code",
   "execution_count": 30,
   "id": "8b431da6",
   "metadata": {},
   "outputs": [],
   "source": [
    "studentid3=\"35\""
   ]
  },
  {
   "cell_type": "code",
   "execution_count": 31,
   "id": "e534b3a5",
   "metadata": {},
   "outputs": [
    {
     "name": "stdout",
     "output_type": "stream",
     "text": [
      "35\n"
     ]
    }
   ],
   "source": [
    "print(studentid3)"
   ]
  },
  {
   "cell_type": "code",
   "execution_count": 32,
   "id": "57e3d9e6",
   "metadata": {},
   "outputs": [
    {
     "data": {
      "text/plain": [
       "str"
      ]
     },
     "execution_count": 32,
     "metadata": {},
     "output_type": "execute_result"
    }
   ],
   "source": [
    "type(studentid3)"
   ]
  },
  {
   "cell_type": "code",
   "execution_count": null,
   "id": "6d10fb23",
   "metadata": {},
   "outputs": [],
   "source": []
  }
 ],
 "metadata": {
  "kernelspec": {
   "display_name": "Python 3",
   "language": "python",
   "name": "python3"
  },
  "language_info": {
   "codemirror_mode": {
    "name": "ipython",
    "version": 3
   },
   "file_extension": ".py",
   "mimetype": "text/x-python",
   "name": "python",
   "nbconvert_exporter": "python",
   "pygments_lexer": "ipython3",
   "version": "3.8.8"
  }
 },
 "nbformat": 4,
 "nbformat_minor": 5
}
